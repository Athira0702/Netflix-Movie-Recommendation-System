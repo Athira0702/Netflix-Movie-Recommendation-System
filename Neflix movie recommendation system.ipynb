{
 "cells": [
  {
   "cell_type": "code",
   "execution_count": 46,
   "id": "1103722a",
   "metadata": {},
   "outputs": [],
   "source": [
    "import numpy as np\n",
    "import pandas as pd"
   ]
  },
  {
   "cell_type": "code",
   "execution_count": 47,
   "id": "9e3d9c40",
   "metadata": {},
   "outputs": [
    {
     "data": {
      "text/html": [
       "<div>\n",
       "<style scoped>\n",
       "    .dataframe tbody tr th:only-of-type {\n",
       "        vertical-align: middle;\n",
       "    }\n",
       "\n",
       "    .dataframe tbody tr th {\n",
       "        vertical-align: top;\n",
       "    }\n",
       "\n",
       "    .dataframe thead th {\n",
       "        text-align: right;\n",
       "    }\n",
       "</style>\n",
       "<table border=\"1\" class=\"dataframe\">\n",
       "  <thead>\n",
       "    <tr style=\"text-align: right;\">\n",
       "      <th></th>\n",
       "      <th>show_id</th>\n",
       "      <th>type</th>\n",
       "      <th>title</th>\n",
       "      <th>director</th>\n",
       "      <th>cast</th>\n",
       "      <th>country</th>\n",
       "      <th>date_added</th>\n",
       "      <th>release_year</th>\n",
       "      <th>rating</th>\n",
       "      <th>duration</th>\n",
       "      <th>listed_in</th>\n",
       "      <th>description</th>\n",
       "    </tr>\n",
       "  </thead>\n",
       "  <tbody>\n",
       "    <tr>\n",
       "      <th>0</th>\n",
       "      <td>s1</td>\n",
       "      <td>Movie</td>\n",
       "      <td>Dick Johnson Is Dead</td>\n",
       "      <td>Kirsten Johnson</td>\n",
       "      <td>NaN</td>\n",
       "      <td>United States</td>\n",
       "      <td>September 25, 2021</td>\n",
       "      <td>2020</td>\n",
       "      <td>PG-13</td>\n",
       "      <td>90 min</td>\n",
       "      <td>Documentaries</td>\n",
       "      <td>As her father nears the end of his life, filmm...</td>\n",
       "    </tr>\n",
       "    <tr>\n",
       "      <th>1</th>\n",
       "      <td>s2</td>\n",
       "      <td>TV Show</td>\n",
       "      <td>Blood &amp; Water</td>\n",
       "      <td>NaN</td>\n",
       "      <td>Ama Qamata, Khosi Ngema, Gail Mabalane, Thaban...</td>\n",
       "      <td>South Africa</td>\n",
       "      <td>September 24, 2021</td>\n",
       "      <td>2021</td>\n",
       "      <td>TV-MA</td>\n",
       "      <td>2 Seasons</td>\n",
       "      <td>International TV Shows, TV Dramas, TV Mysteries</td>\n",
       "      <td>After crossing paths at a party, a Cape Town t...</td>\n",
       "    </tr>\n",
       "    <tr>\n",
       "      <th>2</th>\n",
       "      <td>s3</td>\n",
       "      <td>TV Show</td>\n",
       "      <td>Ganglands</td>\n",
       "      <td>Julien Leclercq</td>\n",
       "      <td>Sami Bouajila, Tracy Gotoas, Samuel Jouy, Nabi...</td>\n",
       "      <td>NaN</td>\n",
       "      <td>September 24, 2021</td>\n",
       "      <td>2021</td>\n",
       "      <td>TV-MA</td>\n",
       "      <td>1 Season</td>\n",
       "      <td>Crime TV Shows, International TV Shows, TV Act...</td>\n",
       "      <td>To protect his family from a powerful drug lor...</td>\n",
       "    </tr>\n",
       "    <tr>\n",
       "      <th>3</th>\n",
       "      <td>s4</td>\n",
       "      <td>TV Show</td>\n",
       "      <td>Jailbirds New Orleans</td>\n",
       "      <td>NaN</td>\n",
       "      <td>NaN</td>\n",
       "      <td>NaN</td>\n",
       "      <td>September 24, 2021</td>\n",
       "      <td>2021</td>\n",
       "      <td>TV-MA</td>\n",
       "      <td>1 Season</td>\n",
       "      <td>Docuseries, Reality TV</td>\n",
       "      <td>Feuds, flirtations and toilet talk go down amo...</td>\n",
       "    </tr>\n",
       "    <tr>\n",
       "      <th>4</th>\n",
       "      <td>s5</td>\n",
       "      <td>TV Show</td>\n",
       "      <td>Kota Factory</td>\n",
       "      <td>NaN</td>\n",
       "      <td>Mayur More, Jitendra Kumar, Ranjan Raj, Alam K...</td>\n",
       "      <td>India</td>\n",
       "      <td>September 24, 2021</td>\n",
       "      <td>2021</td>\n",
       "      <td>TV-MA</td>\n",
       "      <td>2 Seasons</td>\n",
       "      <td>International TV Shows, Romantic TV Shows, TV ...</td>\n",
       "      <td>In a city of coaching centers known to train I...</td>\n",
       "    </tr>\n",
       "  </tbody>\n",
       "</table>\n",
       "</div>"
      ],
      "text/plain": [
       "  show_id     type                  title         director  \\\n",
       "0      s1    Movie   Dick Johnson Is Dead  Kirsten Johnson   \n",
       "1      s2  TV Show          Blood & Water              NaN   \n",
       "2      s3  TV Show              Ganglands  Julien Leclercq   \n",
       "3      s4  TV Show  Jailbirds New Orleans              NaN   \n",
       "4      s5  TV Show           Kota Factory              NaN   \n",
       "\n",
       "                                                cast        country  \\\n",
       "0                                                NaN  United States   \n",
       "1  Ama Qamata, Khosi Ngema, Gail Mabalane, Thaban...   South Africa   \n",
       "2  Sami Bouajila, Tracy Gotoas, Samuel Jouy, Nabi...            NaN   \n",
       "3                                                NaN            NaN   \n",
       "4  Mayur More, Jitendra Kumar, Ranjan Raj, Alam K...          India   \n",
       "\n",
       "           date_added  release_year rating   duration  \\\n",
       "0  September 25, 2021          2020  PG-13     90 min   \n",
       "1  September 24, 2021          2021  TV-MA  2 Seasons   \n",
       "2  September 24, 2021          2021  TV-MA   1 Season   \n",
       "3  September 24, 2021          2021  TV-MA   1 Season   \n",
       "4  September 24, 2021          2021  TV-MA  2 Seasons   \n",
       "\n",
       "                                           listed_in  \\\n",
       "0                                      Documentaries   \n",
       "1    International TV Shows, TV Dramas, TV Mysteries   \n",
       "2  Crime TV Shows, International TV Shows, TV Act...   \n",
       "3                             Docuseries, Reality TV   \n",
       "4  International TV Shows, Romantic TV Shows, TV ...   \n",
       "\n",
       "                                         description  \n",
       "0  As her father nears the end of his life, filmm...  \n",
       "1  After crossing paths at a party, a Cape Town t...  \n",
       "2  To protect his family from a powerful drug lor...  \n",
       "3  Feuds, flirtations and toilet talk go down amo...  \n",
       "4  In a city of coaching centers known to train I...  "
      ]
     },
     "execution_count": 47,
     "metadata": {},
     "output_type": "execute_result"
    }
   ],
   "source": [
    "df=pd.read_csv(r'C:\\Users\\ATHIRA S\\Downloads\\archive (21)\\netflix_titles.csv')\n",
    "df.head()"
   ]
  },
  {
   "cell_type": "code",
   "execution_count": 48,
   "id": "446f66e6",
   "metadata": {},
   "outputs": [
    {
     "name": "stdout",
     "output_type": "stream",
     "text": [
      "<class 'pandas.core.frame.DataFrame'>\n",
      "RangeIndex: 8807 entries, 0 to 8806\n",
      "Data columns (total 12 columns):\n",
      " #   Column        Non-Null Count  Dtype \n",
      "---  ------        --------------  ----- \n",
      " 0   show_id       8807 non-null   object\n",
      " 1   type          8807 non-null   object\n",
      " 2   title         8807 non-null   object\n",
      " 3   director      6173 non-null   object\n",
      " 4   cast          7982 non-null   object\n",
      " 5   country       7976 non-null   object\n",
      " 6   date_added    8797 non-null   object\n",
      " 7   release_year  8807 non-null   int64 \n",
      " 8   rating        8803 non-null   object\n",
      " 9   duration      8804 non-null   object\n",
      " 10  listed_in     8807 non-null   object\n",
      " 11  description   8807 non-null   object\n",
      "dtypes: int64(1), object(11)\n",
      "memory usage: 825.8+ KB\n"
     ]
    }
   ],
   "source": [
    "df.info()"
   ]
  },
  {
   "cell_type": "code",
   "execution_count": 49,
   "id": "ea46a4aa",
   "metadata": {},
   "outputs": [
    {
     "data": {
      "text/plain": [
       "show_id            0\n",
       "type               0\n",
       "title              0\n",
       "director        2634\n",
       "cast             825\n",
       "country          831\n",
       "date_added        10\n",
       "release_year       0\n",
       "rating             4\n",
       "duration           3\n",
       "listed_in          0\n",
       "description        0\n",
       "dtype: int64"
      ]
     },
     "execution_count": 49,
     "metadata": {},
     "output_type": "execute_result"
    }
   ],
   "source": [
    "df.isna().sum()"
   ]
  },
  {
   "cell_type": "code",
   "execution_count": 50,
   "id": "a22bfde0",
   "metadata": {},
   "outputs": [],
   "source": [
    "missing=['director','cast','country','date_added']\n",
    "for i in missing:\n",
    "    df[i].fillna('Unknown',inplace=True)"
   ]
  },
  {
   "cell_type": "code",
   "execution_count": 51,
   "id": "f6be7151",
   "metadata": {},
   "outputs": [],
   "source": [
    "df.dropna(inplace=True)"
   ]
  },
  {
   "cell_type": "code",
   "execution_count": 52,
   "id": "ddea3270",
   "metadata": {},
   "outputs": [
    {
     "data": {
      "text/plain": [
       "show_id         0\n",
       "type            0\n",
       "title           0\n",
       "director        0\n",
       "cast            0\n",
       "country         0\n",
       "date_added      0\n",
       "release_year    0\n",
       "rating          0\n",
       "duration        0\n",
       "listed_in       0\n",
       "description     0\n",
       "dtype: int64"
      ]
     },
     "execution_count": 52,
     "metadata": {},
     "output_type": "execute_result"
    }
   ],
   "source": [
    "df.isna().sum()"
   ]
  },
  {
   "cell_type": "code",
   "execution_count": 53,
   "id": "ca396452",
   "metadata": {},
   "outputs": [
    {
     "data": {
      "text/plain": [
       "TV-MA       3207\n",
       "TV-14       2160\n",
       "TV-PG        863\n",
       "R            799\n",
       "PG-13        490\n",
       "TV-Y7        334\n",
       "TV-Y         307\n",
       "PG           287\n",
       "TV-G         220\n",
       "NR            80\n",
       "G             41\n",
       "TV-Y7-FV       6\n",
       "NC-17          3\n",
       "UR             3\n",
       "Name: rating, dtype: int64"
      ]
     },
     "execution_count": 53,
     "metadata": {},
     "output_type": "execute_result"
    }
   ],
   "source": [
    "a=df['rating'].value_counts()\n",
    "a"
   ]
  },
  {
   "cell_type": "code",
   "execution_count": 54,
   "id": "6e7d9ca8",
   "metadata": {},
   "outputs": [],
   "source": [
    "import matplotlib.pyplot as plt\n",
    "import seaborn as sns"
   ]
  },
  {
   "cell_type": "code",
   "execution_count": 55,
   "id": "c4c30aee",
   "metadata": {},
   "outputs": [
    {
     "data": {
      "text/plain": [
       "<AxesSubplot:>"
      ]
     },
     "execution_count": 55,
     "metadata": {},
     "output_type": "execute_result"
    },
    {
     "data": {
      "image/png": "[encoded data removed]",
      "text/plain": [
       "<Figure size 432x288 with 1 Axes>"
      ]
     },
     "metadata": {
      "needs_background": "light"
     },
     "output_type": "display_data"
    }
   ],
   "source": [
    "a.plot(kind='bar')"
   ]
  },
  {
   "cell_type": "code",
   "execution_count": 56,
   "id": "136c1e38",
   "metadata": {},
   "outputs": [
    {
     "data": {
      "text/plain": [
       "United States     2815\n",
       "India              972\n",
       "Unknown            830\n",
       "United Kingdom     419\n",
       "Japan              244\n",
       "South Korea        199\n",
       "Canada             181\n",
       "Spain              145\n",
       "France             124\n",
       "Mexico             110\n",
       "Name: country, dtype: int64"
      ]
     },
     "execution_count": 56,
     "metadata": {},
     "output_type": "execute_result"
    }
   ],
   "source": [
    "country_counts=df['country'].value_counts().sort_values(ascending=False)\n",
    "country_counts.head(10)"
   ]
  },
  {
   "cell_type": "code",
   "execution_count": 57,
   "id": "da333db3",
   "metadata": {},
   "outputs": [
    {
     "data": {
      "image/png": "[encoded data removed]",
      "text/plain": [
       "<Figure size 720x432 with 1 Axes>"
      ]
     },
     "metadata": {
      "needs_background": "light"
     },
     "output_type": "display_data"
    }
   ],
   "source": [
    "plt.figure(figsize=(10,6))\n",
    "country_counts[:10].plot(kind='bar')\n",
    "plt.title('Distribution of Shows/Movies by Country on Netflix')\n",
    "plt.xlabel('Country')\n",
    "plt.ylabel('Number of Shows/Movies')\n",
    "plt.show()"
   ]
  },
  {
   "cell_type": "code",
   "execution_count": 58,
   "id": "599f7eb9",
   "metadata": {},
   "outputs": [
    {
     "data": {
      "text/plain": [
       "Movie      6126\n",
       "TV Show    2674\n",
       "Name: type, dtype: int64"
      ]
     },
     "execution_count": 58,
     "metadata": {},
     "output_type": "execute_result"
    }
   ],
   "source": [
    "type_count=df['type'].value_counts()\n",
    "type_count"
   ]
  },
  {
   "cell_type": "code",
   "execution_count": 60,
   "id": "f57f39ec",
   "metadata": {},
   "outputs": [
    {
     "data": {
      "text/plain": [
       "<AxesSubplot:ylabel='type'>"
      ]
     },
     "execution_count": 60,
     "metadata": {},
     "output_type": "execute_result"
    },
    {
     "data": {
      "image/png": "[encoded data removed]",
      "text/plain": [
       "<Figure size 720x432 with 1 Axes>"
      ]
     },
     "metadata": {},
     "output_type": "display_data"
    }
   ],
   "source": [
    "plt.figure(figsize=(10,6))\n",
    "type_count.plot(kind='pie')\n"
   ]
  },
  {
   "cell_type": "code",
   "execution_count": 61,
   "id": "708ebedf",
   "metadata": {},
   "outputs": [
    {
     "data": {
      "text/plain": [
       " International Movies       2624\n",
       "Dramas                      1599\n",
       "Comedies                    1210\n",
       "Action & Adventure           859\n",
       "Documentaries                829\n",
       " Dramas                      827\n",
       "International TV Shows       774\n",
       " Independent Movies          736\n",
       " TV Dramas                   696\n",
       " Romantic Movies             613\n",
       "Children & Family Movies     605\n",
       " International TV Shows      576\n",
       " Thrillers                   512\n",
       " Comedies                    464\n",
       " TV Comedies                 460\n",
       "Crime TV Shows               399\n",
       "Kids' TV                     387\n",
       " Music & Musicals            357\n",
       " Romantic TV Shows           338\n",
       "Stand-Up Comedy              334\n",
       "Name: listed_in, dtype: int64"
      ]
     },
     "execution_count": 61,
     "metadata": {},
     "output_type": "execute_result"
    }
   ],
   "source": [
    "genre_count=df['listed_in'].str.split(',').explode().value_counts().sort_values(ascending=False)\n",
    "genre_count.head(20)"
   ]
  },
  {
   "cell_type": "code",
   "execution_count": 63,
   "id": "6fbd4cc6",
   "metadata": {},
   "outputs": [
    {
     "data": {
      "text/plain": [
       "(73,)"
      ]
     },
     "execution_count": 63,
     "metadata": {},
     "output_type": "execute_result"
    }
   ],
   "source": [
    "genre_count.shape"
   ]
  },
  {
   "cell_type": "code",
   "execution_count": 65,
   "id": "2367aa71",
   "metadata": {},
   "outputs": [
    {
     "data": {
      "text/plain": [
       "<AxesSubplot:>"
      ]
     },
     "execution_count": 65,
     "metadata": {},
     "output_type": "execute_result"
    },
    {
     "data": {
      "image/png": "[encoded data removed]",
      "text/plain": [
       "<Figure size 2160x720 with 1 Axes>"
      ]
     },
     "metadata": {
      "needs_background": "light"
     },
     "output_type": "display_data"
    }
   ],
   "source": [
    "plt.figure(figsize=(30,10))\n",
    "genre_count.plot(kind='bar')"
   ]
  },
  {
   "cell_type": "code",
   "execution_count": 66,
   "id": "4b578ac6",
   "metadata": {},
   "outputs": [
    {
     "data": {
      "text/html": [
       "<div>\n",
       "<style scoped>\n",
       "    .dataframe tbody tr th:only-of-type {\n",
       "        vertical-align: middle;\n",
       "    }\n",
       "\n",
       "    .dataframe tbody tr th {\n",
       "        vertical-align: top;\n",
       "    }\n",
       "\n",
       "    .dataframe thead th {\n",
       "        text-align: right;\n",
       "    }\n",
       "</style>\n",
       "<table border=\"1\" class=\"dataframe\">\n",
       "  <thead>\n",
       "    <tr style=\"text-align: right;\">\n",
       "      <th></th>\n",
       "      <th>release_year</th>\n",
       "    </tr>\n",
       "  </thead>\n",
       "  <tbody>\n",
       "    <tr>\n",
       "      <th>count</th>\n",
       "      <td>8800.000000</td>\n",
       "    </tr>\n",
       "    <tr>\n",
       "      <th>mean</th>\n",
       "      <td>2014.179886</td>\n",
       "    </tr>\n",
       "    <tr>\n",
       "      <th>std</th>\n",
       "      <td>8.822583</td>\n",
       "    </tr>\n",
       "    <tr>\n",
       "      <th>min</th>\n",
       "      <td>1925.000000</td>\n",
       "    </tr>\n",
       "    <tr>\n",
       "      <th>25%</th>\n",
       "      <td>2013.000000</td>\n",
       "    </tr>\n",
       "    <tr>\n",
       "      <th>50%</th>\n",
       "      <td>2017.000000</td>\n",
       "    </tr>\n",
       "    <tr>\n",
       "      <th>75%</th>\n",
       "      <td>2019.000000</td>\n",
       "    </tr>\n",
       "    <tr>\n",
       "      <th>max</th>\n",
       "      <td>2021.000000</td>\n",
       "    </tr>\n",
       "  </tbody>\n",
       "</table>\n",
       "</div>"
      ],
      "text/plain": [
       "       release_year\n",
       "count   8800.000000\n",
       "mean    2014.179886\n",
       "std        8.822583\n",
       "min     1925.000000\n",
       "25%     2013.000000\n",
       "50%     2017.000000\n",
       "75%     2019.000000\n",
       "max     2021.000000"
      ]
     },
     "execution_count": 66,
     "metadata": {},
     "output_type": "execute_result"
    }
   ],
   "source": [
    "df.describe()"
   ]
  },
  {
   "cell_type": "markdown",
   "id": "b629171b",
   "metadata": {},
   "source": [
    "# Content Based Recommendation System"
   ]
  },
  {
   "cell_type": "code",
   "execution_count": 67,
   "id": "d01af0f1",
   "metadata": {},
   "outputs": [
    {
     "data": {
      "text/plain": [
       "'As her father nears the end of his life, filmmaker Kirsten Johnson stages his death in inventive and comical ways to help them both face the inevitable.'"
      ]
     },
     "execution_count": 67,
     "metadata": {},
     "output_type": "execute_result"
    }
   ],
   "source": [
    "df['description'][0]"
   ]
  },
  {
   "cell_type": "code",
   "execution_count": 68,
   "id": "99d75db6",
   "metadata": {},
   "outputs": [],
   "source": [
    "from sklearn.feature_extraction.text import TfidfVectorizer\n",
    "tfv=TfidfVectorizer(min_df=6,max_features=None,strip_accents='unicode',analyzer='word',token_pattern=r'\\w{1,}',ngram_range=(1,3),stop_words='english')\n",
    "df['description'].fillna('',inplace=True)"
   ]
  },
  {
   "cell_type": "code",
   "execution_count": 69,
   "id": "9f420f20",
   "metadata": {},
   "outputs": [],
   "source": [
    "tvf_matrix=tfv.fit_transform(df['description'])"
   ]
  },
  {
   "cell_type": "code",
   "execution_count": 70,
   "id": "3cd24701",
   "metadata": {},
   "outputs": [
    {
     "data": {
      "text/plain": [
       "(8800, 4657)"
      ]
     },
     "execution_count": 70,
     "metadata": {},
     "output_type": "execute_result"
    }
   ],
   "source": [
    "tvf_matrix.shape"
   ]
  },
  {
   "cell_type": "code",
   "execution_count": 71,
   "id": "826c9d6b",
   "metadata": {},
   "outputs": [],
   "source": [
    "from sklearn.metrics.pairwise import sigmoid_kernel\n",
    "sigma=sigmoid_kernel(tvf_matrix,tvf_matrix)"
   ]
  },
  {
   "cell_type": "code",
   "execution_count": 72,
   "id": "386dd225",
   "metadata": {},
   "outputs": [
    {
     "data": {
      "text/plain": [
       "array([0.76168432, 0.76159416, 0.76159416, ..., 0.76159416, 0.76159704,\n",
       "       0.76159416])"
      ]
     },
     "execution_count": 72,
     "metadata": {},
     "output_type": "execute_result"
    }
   ],
   "source": [
    "sigma[0]"
   ]
  },
  {
   "cell_type": "code",
   "execution_count": 73,
   "id": "e680b1b9",
   "metadata": {},
   "outputs": [],
   "source": [
    "indices = pd.Series(df.index, index=df['title']).drop_duplicates()"
   ]
  },
  {
   "cell_type": "code",
   "execution_count": 74,
   "id": "a13bb154",
   "metadata": {},
   "outputs": [],
   "source": [
    "def get_recommendation(title,sigma=sigma):\n",
    "    idx=indices[title]\n",
    "    sigma_score=list(enumerate(sigma[idx]))\n",
    "    sigma_score=sorted(sigma_score,key=lambda x:x[1],reverse=True)\n",
    "    sigma_scores=sigma_score[1:11]\n",
    "    movie_idx=[i[0] for i in sigma_scores]\n",
    "    return df['title'].iloc[movie_idx]\n"
   ]
  },
  {
   "cell_type": "code",
   "execution_count": 75,
   "id": "91c4769a",
   "metadata": {},
   "outputs": [
    {
     "data": {
      "text/plain": [
       "1648               Ghosts of War\n",
       "8297    The Figurine (Araromire)\n",
       "2123       Dérè: An African Tale\n",
       "7584                 Night Moves\n",
       "782                        Bliss\n",
       "7871          Rise of the Zombie\n",
       "1004          Izzy's Koala World\n",
       "3402       Love, Surreal and Odd\n",
       "6754         Final Destination 2\n",
       "538                   The A List\n",
       "Name: title, dtype: object"
      ]
     },
     "execution_count": 75,
     "metadata": {},
     "output_type": "execute_result"
    }
   ],
   "source": [
    "get_recommendation('The Conjuring')"
   ]
  },
  {
   "cell_type": "code",
   "execution_count": 76,
   "id": "e29e59cf",
   "metadata": {},
   "outputs": [
    {
     "data": {
      "text/plain": [
       "Index(['show_id', 'type', 'title', 'director', 'cast', 'country', 'date_added',\n",
       "       'release_year', 'rating', 'duration', 'listed_in', 'description'],\n",
       "      dtype='object')"
      ]
     },
     "execution_count": 76,
     "metadata": {},
     "output_type": "execute_result"
    }
   ],
   "source": [
    "df.columns"
   ]
  },
  {
   "cell_type": "code",
   "execution_count": 77,
   "id": "2ea7808a",
   "metadata": {},
   "outputs": [],
   "source": [
    "col=['title','director','cast','listed_in','description']\n",
    "df_new=df[col]"
   ]
  },
  {
   "cell_type": "code",
   "execution_count": 78,
   "id": "e8a3bd7b",
   "metadata": {},
   "outputs": [],
   "source": [
    "def clean_data(x):\n",
    "    return str.lower(x.replace(\" \", \"\"))"
   ]
  },
  {
   "cell_type": "code",
   "execution_count": 79,
   "id": "d427ba33",
   "metadata": {},
   "outputs": [],
   "source": [
    "col = ['title','director', 'cast', 'listed_in', 'description']\n",
    "df_features = df[col]"
   ]
  },
  {
   "cell_type": "code",
   "execution_count": 80,
   "id": "b6160e24",
   "metadata": {},
   "outputs": [],
   "source": [
    "df_features = df[col].copy()  "
   ]
  },
  {
   "cell_type": "code",
   "execution_count": 81,
   "id": "452d1d16",
   "metadata": {},
   "outputs": [
    {
     "data": {
      "text/html": [
       "<div>\n",
       "<style scoped>\n",
       "    .dataframe tbody tr th:only-of-type {\n",
       "        vertical-align: middle;\n",
       "    }\n",
       "\n",
       "    .dataframe tbody tr th {\n",
       "        vertical-align: top;\n",
       "    }\n",
       "\n",
       "    .dataframe thead th {\n",
       "        text-align: right;\n",
       "    }\n",
       "</style>\n",
       "<table border=\"1\" class=\"dataframe\">\n",
       "  <thead>\n",
       "    <tr style=\"text-align: right;\">\n",
       "      <th></th>\n",
       "      <th>title</th>\n",
       "      <th>director</th>\n",
       "      <th>cast</th>\n",
       "      <th>listed_in</th>\n",
       "      <th>description</th>\n",
       "    </tr>\n",
       "  </thead>\n",
       "  <tbody>\n",
       "    <tr>\n",
       "      <th>0</th>\n",
       "      <td>dickjohnsonisdead</td>\n",
       "      <td>kirstenjohnson</td>\n",
       "      <td>unknown</td>\n",
       "      <td>documentaries</td>\n",
       "      <td>asherfathernearstheendofhislife,filmmakerkirst...</td>\n",
       "    </tr>\n",
       "    <tr>\n",
       "      <th>1</th>\n",
       "      <td>blood&amp;water</td>\n",
       "      <td>unknown</td>\n",
       "      <td>amaqamata,khosingema,gailmabalane,thabangmolab...</td>\n",
       "      <td>internationaltvshows,tvdramas,tvmysteries</td>\n",
       "      <td>aftercrossingpathsataparty,acapetownteensetsou...</td>\n",
       "    </tr>\n",
       "    <tr>\n",
       "      <th>2</th>\n",
       "      <td>ganglands</td>\n",
       "      <td>julienleclercq</td>\n",
       "      <td>samibouajila,tracygotoas,samueljouy,nabihaakka...</td>\n",
       "      <td>crimetvshows,internationaltvshows,tvaction&amp;adv...</td>\n",
       "      <td>toprotecthisfamilyfromapowerfuldruglord,skille...</td>\n",
       "    </tr>\n",
       "    <tr>\n",
       "      <th>3</th>\n",
       "      <td>jailbirdsneworleans</td>\n",
       "      <td>unknown</td>\n",
       "      <td>unknown</td>\n",
       "      <td>docuseries,realitytv</td>\n",
       "      <td>feuds,flirtationsandtoilettalkgodownamongthein...</td>\n",
       "    </tr>\n",
       "    <tr>\n",
       "      <th>4</th>\n",
       "      <td>kotafactory</td>\n",
       "      <td>unknown</td>\n",
       "      <td>mayurmore,jitendrakumar,ranjanraj,alamkhan,ahs...</td>\n",
       "      <td>internationaltvshows,romantictvshows,tvcomedies</td>\n",
       "      <td>inacityofcoachingcentersknowntotrainindia’sfin...</td>\n",
       "    </tr>\n",
       "  </tbody>\n",
       "</table>\n",
       "</div>"
      ],
      "text/plain": [
       "                 title        director  \\\n",
       "0    dickjohnsonisdead  kirstenjohnson   \n",
       "1          blood&water         unknown   \n",
       "2            ganglands  julienleclercq   \n",
       "3  jailbirdsneworleans         unknown   \n",
       "4          kotafactory         unknown   \n",
       "\n",
       "                                                cast  \\\n",
       "0                                            unknown   \n",
       "1  amaqamata,khosingema,gailmabalane,thabangmolab...   \n",
       "2  samibouajila,tracygotoas,samueljouy,nabihaakka...   \n",
       "3                                            unknown   \n",
       "4  mayurmore,jitendrakumar,ranjanraj,alamkhan,ahs...   \n",
       "\n",
       "                                           listed_in  \\\n",
       "0                                      documentaries   \n",
       "1          internationaltvshows,tvdramas,tvmysteries   \n",
       "2  crimetvshows,internationaltvshows,tvaction&adv...   \n",
       "3                               docuseries,realitytv   \n",
       "4    internationaltvshows,romantictvshows,tvcomedies   \n",
       "\n",
       "                                         description  \n",
       "0  asherfathernearstheendofhislife,filmmakerkirst...  \n",
       "1  aftercrossingpathsataparty,acapetownteensetsou...  \n",
       "2  toprotecthisfamilyfromapowerfuldruglord,skille...  \n",
       "3  feuds,flirtationsandtoilettalkgodownamongthein...  \n",
       "4  inacityofcoachingcentersknowntotrainindia’sfin...  "
      ]
     },
     "execution_count": 81,
     "metadata": {},
     "output_type": "execute_result"
    }
   ],
   "source": [
    "for feature in col:\n",
    "    df_features[feature] = df_features[feature].apply(clean_data)\n",
    "    \n",
    "df_features.head()"
   ]
  },
  {
   "cell_type": "code",
   "execution_count": 82,
   "id": "85220965",
   "metadata": {},
   "outputs": [],
   "source": [
    "def all(x):\n",
    "    return x['title']+' '+x['director']+' '+x['cast']+' '+x['listed_in']+' '+x['description']\n",
    "    "
   ]
  },
  {
   "cell_type": "code",
   "execution_count": 83,
   "id": "7dbd891a",
   "metadata": {},
   "outputs": [
    {
     "data": {
      "text/html": [
       "<div>\n",
       "<style scoped>\n",
       "    .dataframe tbody tr th:only-of-type {\n",
       "        vertical-align: middle;\n",
       "    }\n",
       "\n",
       "    .dataframe tbody tr th {\n",
       "        vertical-align: top;\n",
       "    }\n",
       "\n",
       "    .dataframe thead th {\n",
       "        text-align: right;\n",
       "    }\n",
       "</style>\n",
       "<table border=\"1\" class=\"dataframe\">\n",
       "  <thead>\n",
       "    <tr style=\"text-align: right;\">\n",
       "      <th></th>\n",
       "      <th>title</th>\n",
       "      <th>director</th>\n",
       "      <th>cast</th>\n",
       "      <th>listed_in</th>\n",
       "      <th>description</th>\n",
       "      <th>all</th>\n",
       "    </tr>\n",
       "  </thead>\n",
       "  <tbody>\n",
       "    <tr>\n",
       "      <th>0</th>\n",
       "      <td>dickjohnsonisdead</td>\n",
       "      <td>kirstenjohnson</td>\n",
       "      <td>unknown</td>\n",
       "      <td>documentaries</td>\n",
       "      <td>asherfathernearstheendofhislife,filmmakerkirst...</td>\n",
       "      <td>dickjohnsonisdead kirstenjohnson unknown docum...</td>\n",
       "    </tr>\n",
       "    <tr>\n",
       "      <th>1</th>\n",
       "      <td>blood&amp;water</td>\n",
       "      <td>unknown</td>\n",
       "      <td>amaqamata,khosingema,gailmabalane,thabangmolab...</td>\n",
       "      <td>internationaltvshows,tvdramas,tvmysteries</td>\n",
       "      <td>aftercrossingpathsataparty,acapetownteensetsou...</td>\n",
       "      <td>blood&amp;water unknown amaqamata,khosingema,gailm...</td>\n",
       "    </tr>\n",
       "    <tr>\n",
       "      <th>2</th>\n",
       "      <td>ganglands</td>\n",
       "      <td>julienleclercq</td>\n",
       "      <td>samibouajila,tracygotoas,samueljouy,nabihaakka...</td>\n",
       "      <td>crimetvshows,internationaltvshows,tvaction&amp;adv...</td>\n",
       "      <td>toprotecthisfamilyfromapowerfuldruglord,skille...</td>\n",
       "      <td>ganglands julienleclercq samibouajila,tracygot...</td>\n",
       "    </tr>\n",
       "    <tr>\n",
       "      <th>3</th>\n",
       "      <td>jailbirdsneworleans</td>\n",
       "      <td>unknown</td>\n",
       "      <td>unknown</td>\n",
       "      <td>docuseries,realitytv</td>\n",
       "      <td>feuds,flirtationsandtoilettalkgodownamongthein...</td>\n",
       "      <td>jailbirdsneworleans unknown unknown docuseries...</td>\n",
       "    </tr>\n",
       "    <tr>\n",
       "      <th>4</th>\n",
       "      <td>kotafactory</td>\n",
       "      <td>unknown</td>\n",
       "      <td>mayurmore,jitendrakumar,ranjanraj,alamkhan,ahs...</td>\n",
       "      <td>internationaltvshows,romantictvshows,tvcomedies</td>\n",
       "      <td>inacityofcoachingcentersknowntotrainindia’sfin...</td>\n",
       "      <td>kotafactory unknown mayurmore,jitendrakumar,ra...</td>\n",
       "    </tr>\n",
       "  </tbody>\n",
       "</table>\n",
       "</div>"
      ],
      "text/plain": [
       "                 title        director  \\\n",
       "0    dickjohnsonisdead  kirstenjohnson   \n",
       "1          blood&water         unknown   \n",
       "2            ganglands  julienleclercq   \n",
       "3  jailbirdsneworleans         unknown   \n",
       "4          kotafactory         unknown   \n",
       "\n",
       "                                                cast  \\\n",
       "0                                            unknown   \n",
       "1  amaqamata,khosingema,gailmabalane,thabangmolab...   \n",
       "2  samibouajila,tracygotoas,samueljouy,nabihaakka...   \n",
       "3                                            unknown   \n",
       "4  mayurmore,jitendrakumar,ranjanraj,alamkhan,ahs...   \n",
       "\n",
       "                                           listed_in  \\\n",
       "0                                      documentaries   \n",
       "1          internationaltvshows,tvdramas,tvmysteries   \n",
       "2  crimetvshows,internationaltvshows,tvaction&adv...   \n",
       "3                               docuseries,realitytv   \n",
       "4    internationaltvshows,romantictvshows,tvcomedies   \n",
       "\n",
       "                                         description  \\\n",
       "0  asherfathernearstheendofhislife,filmmakerkirst...   \n",
       "1  aftercrossingpathsataparty,acapetownteensetsou...   \n",
       "2  toprotecthisfamilyfromapowerfuldruglord,skille...   \n",
       "3  feuds,flirtationsandtoilettalkgodownamongthein...   \n",
       "4  inacityofcoachingcentersknowntotrainindia’sfin...   \n",
       "\n",
       "                                                 all  \n",
       "0  dickjohnsonisdead kirstenjohnson unknown docum...  \n",
       "1  blood&water unknown amaqamata,khosingema,gailm...  \n",
       "2  ganglands julienleclercq samibouajila,tracygot...  \n",
       "3  jailbirdsneworleans unknown unknown docuseries...  \n",
       "4  kotafactory unknown mayurmore,jitendrakumar,ra...  "
      ]
     },
     "execution_count": 83,
     "metadata": {},
     "output_type": "execute_result"
    }
   ],
   "source": [
    "df_features['all']=df_features.apply(all,axis=1)\n",
    "df_features.head()"
   ]
  },
  {
   "cell_type": "code",
   "execution_count": 84,
   "id": "7f1e76b2",
   "metadata": {},
   "outputs": [],
   "source": [
    "from sklearn.feature_extraction.text import CountVectorizer\n",
    "from sklearn.metrics.pairwise import cosine_similarity\n",
    "\n",
    "count = CountVectorizer(stop_words='english')\n",
    "count_matrix = count.fit_transform(df_features['all'])\n",
    "\n",
    "cosine_sim2 = cosine_similarity(count_matrix, count_matrix)"
   ]
  },
  {
   "cell_type": "code",
   "execution_count": 85,
   "id": "fc133124",
   "metadata": {},
   "outputs": [],
   "source": [
    "df_features = df_features.reset_index()\n",
    "indices = pd.Series(df_features.index, index = df_features['title'])"
   ]
  },
  {
   "cell_type": "code",
   "execution_count": 86,
   "id": "feb31e5c",
   "metadata": {},
   "outputs": [],
   "source": [
    "def get_recommendations2(title, cosine_sim = cosine_sim2):\n",
    "    title = title.replace(' ', '').lower()\n",
    "    idx = indices[title]\n",
    "    \n",
    "    sim_scores = list(enumerate(cosine_sim[idx]))\n",
    "    \n",
    "    sim_scores = sorted(sim_scores, key = lambda x: x[1], reverse= True)\n",
    "    \n",
    "    sim_scores = sim_scores[1:11]\n",
    "    \n",
    "    movie_indices = [i[0] for i in sim_scores]\n",
    "    \n",
    "    return df_features['title'].str.capitalize().iloc[movie_indices]"
   ]
  },
  {
   "cell_type": "code",
   "execution_count": 87,
   "id": "5c392a5f",
   "metadata": {},
   "outputs": [
    {
     "data": {
      "text/plain": [
       "1118                               Insidious\n",
       "1284                           Theconjuring2\n",
       "3450                          Inthetallgrass\n",
       "7163                                  Kanika\n",
       "1898                              Thebinding\n",
       "5110                                  Creep2\n",
       "5736    Iamtheprettythingthatlivesinthehouse\n",
       "5849                                    Hush\n",
       "6204                             Backcountry\n",
       "2036                                  #alive\n",
       "Name: title, dtype: object"
      ]
     },
     "execution_count": 87,
     "metadata": {},
     "output_type": "execute_result"
    }
   ],
   "source": [
    "get_recommendations2('The Conjuring')"
   ]
  },
  {
   "cell_type": "code",
   "execution_count": 88,
   "id": "1f87afd7",
   "metadata": {},
   "outputs": [
    {
     "data": {
      "text/html": [
       "<div>\n",
       "<style scoped>\n",
       "    .dataframe tbody tr th:only-of-type {\n",
       "        vertical-align: middle;\n",
       "    }\n",
       "\n",
       "    .dataframe tbody tr th {\n",
       "        vertical-align: top;\n",
       "    }\n",
       "\n",
       "    .dataframe thead th {\n",
       "        text-align: right;\n",
       "    }\n",
       "</style>\n",
       "<table border=\"1\" class=\"dataframe\">\n",
       "  <thead>\n",
       "    <tr style=\"text-align: right;\">\n",
       "      <th></th>\n",
       "      <th>index</th>\n",
       "      <th>title</th>\n",
       "      <th>director</th>\n",
       "      <th>cast</th>\n",
       "      <th>listed_in</th>\n",
       "      <th>description</th>\n",
       "      <th>all</th>\n",
       "    </tr>\n",
       "  </thead>\n",
       "  <tbody>\n",
       "    <tr>\n",
       "      <th>0</th>\n",
       "      <td>0</td>\n",
       "      <td>dickjohnsonisdead</td>\n",
       "      <td>kirstenjohnson</td>\n",
       "      <td>unknown</td>\n",
       "      <td>documentaries</td>\n",
       "      <td>asherfathernearstheendofhislife,filmmakerkirst...</td>\n",
       "      <td>dickjohnsonisdead kirstenjohnson unknown docum...</td>\n",
       "    </tr>\n",
       "    <tr>\n",
       "      <th>1</th>\n",
       "      <td>1</td>\n",
       "      <td>blood&amp;water</td>\n",
       "      <td>unknown</td>\n",
       "      <td>amaqamata,khosingema,gailmabalane,thabangmolab...</td>\n",
       "      <td>internationaltvshows,tvdramas,tvmysteries</td>\n",
       "      <td>aftercrossingpathsataparty,acapetownteensetsou...</td>\n",
       "      <td>blood&amp;water unknown amaqamata,khosingema,gailm...</td>\n",
       "    </tr>\n",
       "    <tr>\n",
       "      <th>2</th>\n",
       "      <td>2</td>\n",
       "      <td>ganglands</td>\n",
       "      <td>julienleclercq</td>\n",
       "      <td>samibouajila,tracygotoas,samueljouy,nabihaakka...</td>\n",
       "      <td>crimetvshows,internationaltvshows,tvaction&amp;adv...</td>\n",
       "      <td>toprotecthisfamilyfromapowerfuldruglord,skille...</td>\n",
       "      <td>ganglands julienleclercq samibouajila,tracygot...</td>\n",
       "    </tr>\n",
       "    <tr>\n",
       "      <th>3</th>\n",
       "      <td>3</td>\n",
       "      <td>jailbirdsneworleans</td>\n",
       "      <td>unknown</td>\n",
       "      <td>unknown</td>\n",
       "      <td>docuseries,realitytv</td>\n",
       "      <td>feuds,flirtationsandtoilettalkgodownamongthein...</td>\n",
       "      <td>jailbirdsneworleans unknown unknown docuseries...</td>\n",
       "    </tr>\n",
       "    <tr>\n",
       "      <th>4</th>\n",
       "      <td>4</td>\n",
       "      <td>kotafactory</td>\n",
       "      <td>unknown</td>\n",
       "      <td>mayurmore,jitendrakumar,ranjanraj,alamkhan,ahs...</td>\n",
       "      <td>internationaltvshows,romantictvshows,tvcomedies</td>\n",
       "      <td>inacityofcoachingcentersknowntotrainindia’sfin...</td>\n",
       "      <td>kotafactory unknown mayurmore,jitendrakumar,ra...</td>\n",
       "    </tr>\n",
       "    <tr>\n",
       "      <th>...</th>\n",
       "      <td>...</td>\n",
       "      <td>...</td>\n",
       "      <td>...</td>\n",
       "      <td>...</td>\n",
       "      <td>...</td>\n",
       "      <td>...</td>\n",
       "      <td>...</td>\n",
       "    </tr>\n",
       "    <tr>\n",
       "      <th>8795</th>\n",
       "      <td>8802</td>\n",
       "      <td>zodiac</td>\n",
       "      <td>davidfincher</td>\n",
       "      <td>markruffalo,jakegyllenhaal,robertdowneyjr.,ant...</td>\n",
       "      <td>cultmovies,dramas,thrillers</td>\n",
       "      <td>apoliticalcartoonist,acrimereporterandapairofc...</td>\n",
       "      <td>zodiac davidfincher markruffalo,jakegyllenhaal...</td>\n",
       "    </tr>\n",
       "    <tr>\n",
       "      <th>8796</th>\n",
       "      <td>8803</td>\n",
       "      <td>zombiedumb</td>\n",
       "      <td>unknown</td>\n",
       "      <td>unknown</td>\n",
       "      <td>kids'tv,koreantvshows,tvcomedies</td>\n",
       "      <td>whilelivingaloneinaspookytown,ayounggirlbefrie...</td>\n",
       "      <td>zombiedumb unknown unknown kids'tv,koreantvsho...</td>\n",
       "    </tr>\n",
       "    <tr>\n",
       "      <th>8797</th>\n",
       "      <td>8804</td>\n",
       "      <td>zombieland</td>\n",
       "      <td>rubenfleischer</td>\n",
       "      <td>jesseeisenberg,woodyharrelson,emmastone,abigai...</td>\n",
       "      <td>comedies,horrormovies</td>\n",
       "      <td>lookingtosurviveinaworldtakenoverbyzombies,ado...</td>\n",
       "      <td>zombieland rubenfleischer jesseeisenberg,woody...</td>\n",
       "    </tr>\n",
       "    <tr>\n",
       "      <th>8798</th>\n",
       "      <td>8805</td>\n",
       "      <td>zoom</td>\n",
       "      <td>peterhewitt</td>\n",
       "      <td>timallen,courteneycox,chevychase,katemara,ryan...</td>\n",
       "      <td>children&amp;familymovies,comedies</td>\n",
       "      <td>draggedfromcivilianlife,aformersuperheromusttr...</td>\n",
       "      <td>zoom peterhewitt timallen,courteneycox,chevych...</td>\n",
       "    </tr>\n",
       "    <tr>\n",
       "      <th>8799</th>\n",
       "      <td>8806</td>\n",
       "      <td>zubaan</td>\n",
       "      <td>mozezsingh</td>\n",
       "      <td>vickykaushal,sarah-janedias,raaghavchanana,man...</td>\n",
       "      <td>dramas,internationalmovies,music&amp;musicals</td>\n",
       "      <td>ascrappybutpoorboywormshiswayintoatycoon'sdysf...</td>\n",
       "      <td>zubaan mozezsingh vickykaushal,sarah-janedias,...</td>\n",
       "    </tr>\n",
       "  </tbody>\n",
       "</table>\n",
       "<p>8800 rows × 7 columns</p>\n",
       "</div>"
      ],
      "text/plain": [
       "      index                title        director  \\\n",
       "0         0    dickjohnsonisdead  kirstenjohnson   \n",
       "1         1          blood&water         unknown   \n",
       "2         2            ganglands  julienleclercq   \n",
       "3         3  jailbirdsneworleans         unknown   \n",
       "4         4          kotafactory         unknown   \n",
       "...     ...                  ...             ...   \n",
       "8795   8802               zodiac    davidfincher   \n",
       "8796   8803           zombiedumb         unknown   \n",
       "8797   8804           zombieland  rubenfleischer   \n",
       "8798   8805                 zoom     peterhewitt   \n",
       "8799   8806               zubaan      mozezsingh   \n",
       "\n",
       "                                                   cast  \\\n",
       "0                                               unknown   \n",
       "1     amaqamata,khosingema,gailmabalane,thabangmolab...   \n",
       "2     samibouajila,tracygotoas,samueljouy,nabihaakka...   \n",
       "3                                               unknown   \n",
       "4     mayurmore,jitendrakumar,ranjanraj,alamkhan,ahs...   \n",
       "...                                                 ...   \n",
       "8795  markruffalo,jakegyllenhaal,robertdowneyjr.,ant...   \n",
       "8796                                            unknown   \n",
       "8797  jesseeisenberg,woodyharrelson,emmastone,abigai...   \n",
       "8798  timallen,courteneycox,chevychase,katemara,ryan...   \n",
       "8799  vickykaushal,sarah-janedias,raaghavchanana,man...   \n",
       "\n",
       "                                              listed_in  \\\n",
       "0                                         documentaries   \n",
       "1             internationaltvshows,tvdramas,tvmysteries   \n",
       "2     crimetvshows,internationaltvshows,tvaction&adv...   \n",
       "3                                  docuseries,realitytv   \n",
       "4       internationaltvshows,romantictvshows,tvcomedies   \n",
       "...                                                 ...   \n",
       "8795                        cultmovies,dramas,thrillers   \n",
       "8796                   kids'tv,koreantvshows,tvcomedies   \n",
       "8797                              comedies,horrormovies   \n",
       "8798                     children&familymovies,comedies   \n",
       "8799          dramas,internationalmovies,music&musicals   \n",
       "\n",
       "                                            description  \\\n",
       "0     asherfathernearstheendofhislife,filmmakerkirst...   \n",
       "1     aftercrossingpathsataparty,acapetownteensetsou...   \n",
       "2     toprotecthisfamilyfromapowerfuldruglord,skille...   \n",
       "3     feuds,flirtationsandtoilettalkgodownamongthein...   \n",
       "4     inacityofcoachingcentersknowntotrainindia’sfin...   \n",
       "...                                                 ...   \n",
       "8795  apoliticalcartoonist,acrimereporterandapairofc...   \n",
       "8796  whilelivingaloneinaspookytown,ayounggirlbefrie...   \n",
       "8797  lookingtosurviveinaworldtakenoverbyzombies,ado...   \n",
       "8798  draggedfromcivilianlife,aformersuperheromusttr...   \n",
       "8799  ascrappybutpoorboywormshiswayintoatycoon'sdysf...   \n",
       "\n",
       "                                                    all  \n",
       "0     dickjohnsonisdead kirstenjohnson unknown docum...  \n",
       "1     blood&water unknown amaqamata,khosingema,gailm...  \n",
       "2     ganglands julienleclercq samibouajila,tracygot...  \n",
       "3     jailbirdsneworleans unknown unknown docuseries...  \n",
       "4     kotafactory unknown mayurmore,jitendrakumar,ra...  \n",
       "...                                                 ...  \n",
       "8795  zodiac davidfincher markruffalo,jakegyllenhaal...  \n",
       "8796  zombiedumb unknown unknown kids'tv,koreantvsho...  \n",
       "8797  zombieland rubenfleischer jesseeisenberg,woody...  \n",
       "8798  zoom peterhewitt timallen,courteneycox,chevych...  \n",
       "8799  zubaan mozezsingh vickykaushal,sarah-janedias,...  \n",
       "\n",
       "[8800 rows x 7 columns]"
      ]
     },
     "execution_count": 88,
     "metadata": {},
     "output_type": "execute_result"
    }
   ],
   "source": [
    "df_features"
   ]
  },
  {
   "cell_type": "code",
   "execution_count": 89,
   "id": "4d223740",
   "metadata": {},
   "outputs": [],
   "source": [
    "from sklearn.feature_extraction.text import TfidfVectorizer\n",
    "\n",
    "tfidf = TfidfVectorizer(stop_words='english')\n",
    "tfidf_matrix = tfidf.fit_transform(df_features['all'])\n",
    "\n",
    "cosine_sim_tfidf = cosine_similarity(tfidf_matrix, tfidf_matrix)\n"
   ]
  },
  {
   "cell_type": "code",
   "execution_count": 90,
   "id": "652e3a08",
   "metadata": {},
   "outputs": [],
   "source": [
    "def get_recommendations3(title, cosine_sim = cosine_sim_tfidf):\n",
    "    title = title.replace(' ', '').lower()\n",
    "    idx = indices[title]\n",
    "    \n",
    "    sim_scores = list(enumerate(cosine_sim_tfidf[idx]))\n",
    "    \n",
    "    sim_scores = sorted(sim_scores, key = lambda x: x[1], reverse= True)\n",
    "    \n",
    "    sim_scores = sim_scores[1:11]\n",
    "    \n",
    "    movie_indices = [i[0] for i in sim_scores]\n",
    "    \n",
    "    return df['title'].str.capitalize().iloc[movie_indices]"
   ]
  },
  {
   "cell_type": "code",
   "execution_count": 91,
   "id": "5f563593",
   "metadata": {},
   "outputs": [
    {
     "data": {
      "text/plain": [
       "1284               The conjuring 2\n",
       "1118                     Insidious\n",
       "3450             In the tall grass\n",
       "6939    Haunting on fraternity row\n",
       "3398                           Eli\n",
       "4868             The kissing booth\n",
       "6042              A kind of murder\n",
       "8272                  The departed\n",
       "8395             The little prince\n",
       "5440                  Shimmer lake\n",
       "Name: title, dtype: object"
      ]
     },
     "execution_count": 91,
     "metadata": {},
     "output_type": "execute_result"
    }
   ],
   "source": [
    "get_recommendations3('The Conjuring')"
   ]
  },
  {
   "cell_type": "code",
   "execution_count": 95,
   "id": "acbd57d2",
   "metadata": {},
   "outputs": [
    {
     "data": {
      "text/plain": [
       "1283          The conjuring\n",
       "1284        The conjuring 2\n",
       "1387    The next three days\n",
       "3450      In the tall grass\n",
       "3764            I am mother\n",
       "8211         The black room\n",
       "7220                Knowing\n",
       "557              Winchester\n",
       "6042       A kind of murder\n",
       "8507             The signal\n",
       "Name: title, dtype: object"
      ]
     },
     "execution_count": 95,
     "metadata": {},
     "output_type": "execute_result"
    }
   ],
   "source": [
    "get_recommendations3('Insidious')"
   ]
  },
  {
   "cell_type": "code",
   "execution_count": 102,
   "id": "6bcf0a70",
   "metadata": {},
   "outputs": [],
   "source": [
    "tfidf_vectorizer = TfidfVectorizer(min_df=3,max_features=None,strip_accents='unicode',analyzer='word',token_pattern=r'\\w{1,}',ngram_range=(1,3),stop_words='english')\n",
    "tfidf_matrix = tfidf_vectorizer.fit_transform(df_features['all'])\n",
    "\n",
    "\n",
    "cosine_sim = cosine_similarity(tfidf_matrix, tfidf_matrix)\n",
    "\n"
   ]
  },
  {
   "cell_type": "code",
   "execution_count": 103,
   "id": "f590c39e",
   "metadata": {},
   "outputs": [
    {
     "name": "stdout",
     "output_type": "stream",
     "text": [
      "Top 10 Recommendations for 'The Conjuring':\n",
      "1118              Insidious\n",
      "1284        The Conjuring 2\n",
      "3450      In the Tall Grass\n",
      "6119     All Light Will End\n",
      "6595             Desolation\n",
      "6945         He's Out There\n",
      "7704    Paranormal Activity\n",
      "8276       The Devil Inside\n",
      "8242      The Charnel House\n",
      "8204           The Basement\n",
      "Name: title, dtype: object\n"
     ]
    }
   ],
   "source": [
    "def get_recommendations4(title, cosine_sim_matrix, df_new):\n",
    "    idx = df.index[df['title'] == title].tolist()[0]\n",
    "    sim_scores = list(enumerate(cosine_sim_matrix[idx]))\n",
    "    sim_scores = sorted(sim_scores, key=lambda x: x[1], reverse=True)\n",
    "    sim_scores = sim_scores[1:11]\n",
    "    movie_indices = [i[0] for i in sim_scores]\n",
    "    return df['title'].iloc[movie_indices]\n",
    "\n",
    "\n",
    "input_movie = 'The Conjuring'\n",
    "recommendations = get_recommendations4(input_movie, cosine_sim, df)\n",
    "\n",
    "print(f\"Top 10 Recommendations for '{input_movie}':\")\n",
    "print(recommendations)"
   ]
  },
  {
   "cell_type": "code",
   "execution_count": null,
   "id": "b0898094",
   "metadata": {},
   "outputs": [],
   "source": []
  }
 ],
 "metadata": {
  "kernelspec": {
   "display_name": "Python 3 (ipykernel)",
   "language": "python",
   "name": "python3"
  },
  "language_info": {
   "codemirror_mode": {
    "name": "ipython",
    "version": 3
   },
   "file_extension": ".py",
   "mimetype": "text/x-python",
   "name": "python",
   "nbconvert_exporter": "python",
   "pygments_lexer": "ipython3",
   "version": "3.9.7"
  }
 },
 "nbformat": 4,
 "nbformat_minor": 5
}
